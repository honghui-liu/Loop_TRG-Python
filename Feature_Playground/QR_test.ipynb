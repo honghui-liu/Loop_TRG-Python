{
 "cells": [
  {
   "cell_type": "code",
   "execution_count": 1,
   "metadata": {},
   "outputs": [],
   "source": [
    "import numpy as np"
   ]
  },
  {
   "cell_type": "code",
   "execution_count": 2,
   "metadata": {},
   "outputs": [],
   "source": [
    "x = np.array([[[[1, 2],[3, 4]],[[5, 6],[7, 8]]],\n",
    "              [[[8, 7],[6, 5]],[[4, 3],[2, 1]]]])"
   ]
  },
  {
   "cell_type": "code",
   "execution_count": 3,
   "metadata": {},
   "outputs": [],
   "source": [
    "y = x.reshape((8,2))"
   ]
  },
  {
   "cell_type": "code",
   "execution_count": 4,
   "metadata": {},
   "outputs": [
    {
     "data": {
      "text/plain": [
       "array([[1, 2],\n",
       "       [3, 4],\n",
       "       [5, 6],\n",
       "       [7, 8],\n",
       "       [8, 7],\n",
       "       [6, 5],\n",
       "       [4, 3],\n",
       "       [2, 1]])"
      ]
     },
     "execution_count": 4,
     "metadata": {},
     "output_type": "execute_result"
    }
   ],
   "source": [
    "y"
   ]
  },
  {
   "cell_type": "code",
   "execution_count": 8,
   "metadata": {},
   "outputs": [],
   "source": [
    "q,r = np.linalg.qr(y,mode='complete')"
   ]
  },
  {
   "cell_type": "code",
   "execution_count": 9,
   "metadata": {},
   "outputs": [
    {
     "data": {
      "text/plain": [
       "array([[-0.070014  , -0.362266  , -0.38175059, -0.51787412, -0.50305241,\n",
       "        -0.36692887, -0.23080533, -0.0946818 ],\n",
       "       [-0.21004201, -0.37619931, -0.34654925, -0.33979524,  0.39045035,\n",
       "         0.38369633,  0.37694232,  0.37018831],\n",
       "       [-0.35007002, -0.39013261,  0.81857755, -0.21899045, -0.06276951,\n",
       "        -0.02520152,  0.01236648,  0.04993447],\n",
       "       [-0.49009803, -0.40406592, -0.22441375,  0.71934576, -0.14114947,\n",
       "        -0.08490897, -0.02866848,  0.02757202],\n",
       "       [-0.56011203,  0.29956611, -0.09802095, -0.1818242 ,  0.55329981,\n",
       "        -0.36289694, -0.27909369, -0.19529044],\n",
       "       [-0.42008403,  0.31349942, -0.05502966, -0.12016041, -0.36832024,\n",
       "         0.69681051, -0.23805873, -0.17292798],\n",
       "       [-0.28005602,  0.32743273, -0.01203836, -0.05849662, -0.28994028,\n",
       "        -0.24348203,  0.80297622, -0.15056552],\n",
       "       [-0.14002801,  0.34136604,  0.03095293,  0.00316718, -0.21156033,\n",
       "        -0.18377457, -0.15598882,  0.87179693]])"
      ]
     },
     "execution_count": 9,
     "metadata": {},
     "output_type": "execute_result"
    }
   ],
   "source": [
    "q"
   ]
  },
  {
   "cell_type": "code",
   "execution_count": 10,
   "metadata": {},
   "outputs": [
    {
     "data": {
      "text/plain": [
       "array([[-14.28285686, -14.00280084],\n",
       "       [  0.        ,  -2.81452814],\n",
       "       [  0.        ,   0.        ],\n",
       "       [  0.        ,   0.        ],\n",
       "       [  0.        ,   0.        ],\n",
       "       [  0.        ,   0.        ],\n",
       "       [  0.        ,   0.        ],\n",
       "       [  0.        ,   0.        ]])"
      ]
     },
     "execution_count": 10,
     "metadata": {},
     "output_type": "execute_result"
    }
   ],
   "source": [
    "r"
   ]
  },
  {
   "cell_type": "code",
   "execution_count": 2,
   "metadata": {},
   "outputs": [],
   "source": [
    "test = np.ones((2,2),dtype=complex)"
   ]
  },
  {
   "cell_type": "code",
   "execution_count": 3,
   "metadata": {},
   "outputs": [
    {
     "data": {
      "text/plain": [
       "array([[1.+0.j, 1.+0.j],\n",
       "       [1.+0.j, 1.+0.j]])"
      ]
     },
     "execution_count": 3,
     "metadata": {},
     "output_type": "execute_result"
    }
   ],
   "source": [
    "test"
   ]
  },
  {
   "cell_type": "code",
   "execution_count": null,
   "metadata": {},
   "outputs": [],
   "source": []
  }
 ],
 "metadata": {
  "kernelspec": {
   "display_name": "Python 3",
   "language": "python",
   "name": "python3"
  },
  "language_info": {
   "codemirror_mode": {
    "name": "ipython",
    "version": 3
   },
   "file_extension": ".py",
   "mimetype": "text/x-python",
   "name": "python",
   "nbconvert_exporter": "python",
   "pygments_lexer": "ipython3",
   "version": "3.6.6"
  }
 },
 "nbformat": 4,
 "nbformat_minor": 2
}
